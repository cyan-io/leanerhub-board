{
 "cells": [
  {
   "cell_type": "code",
   "execution_count": 1,
   "metadata": {},
   "outputs": [],
   "source": [
    "def get_url(space_id=478, page_no=1):\n",
    "    return f\"https://api.learnerhub.net/v1/products/{space_id}/issues?select_type=all&page={page_no}&order_type=created&order_action=desc\""
   ]
  },
  {
   "cell_type": "code",
   "execution_count": 2,
   "metadata": {},
   "outputs": [],
   "source": [
    "import requests\n",
    "import json"
   ]
  },
  {
   "cell_type": "code",
   "execution_count": 3,
   "metadata": {},
   "outputs": [
    {
     "name": "stdout",
     "output_type": "stream",
     "text": [
      "https://api.learnerhub.net/v1/products/478/issues?select_type=all&page=1&order_type=created&order_action=desc\n"
     ]
    }
   ],
   "source": [
    "print(get_url(space_id=478, page_no=1))\n",
    "response = requests.get(get_url())"
   ]
  },
  {
   "cell_type": "code",
   "execution_count": 4,
   "metadata": {},
   "outputs": [
    {
     "data": {
      "text/plain": [
       "<Response [200]>"
      ]
     },
     "execution_count": 4,
     "metadata": {},
     "output_type": "execute_result"
    }
   ],
   "source": [
    "response"
   ]
  },
  {
   "cell_type": "code",
   "execution_count": 12,
   "metadata": {},
   "outputs": [],
   "source": [
    "issuses=response.json().get('data',[])"
   ]
  },
  {
   "cell_type": "code",
   "execution_count": 43,
   "metadata": {},
   "outputs": [],
   "source": [
    "from datetime import datetime\n",
    "\n",
    "\n",
    "def format_datetime(_datetime):\n",
    "    dt = datetime.strptime(_datetime, \"%Y-%m-%dT%H:%M:%S.%f%z\")\n",
    "    # formatted_time = dt.strftime(\"%m/%d %H:%M:%S\")\n",
    "    formatted_time = dt.strftime(\"%m/%d %H\")\n",
    "    return (\n",
    "        formatted_time + (\" am\" if formatted_time[-2:] < \"13\" else \" pm\"),\n",
    "        dt.weekday() + 1,\n",
    "    )"
   ]
  },
  {
   "cell_type": "code",
   "execution_count": 44,
   "metadata": {},
   "outputs": [],
   "source": [
    "# ! pip install prettytable\n",
    "import prettytable"
   ]
  },
  {
   "cell_type": "code",
   "execution_count": 48,
   "metadata": {},
   "outputs": [
    {
     "name": "stdout",
     "output_type": "stream",
     "text": [
      "+----+---------+-------------+-----+-----------------------------------------------------------------------------------------------+\n",
      "| OK | Essence |     Date    | Day | Title                                                                                         |\n",
      "+----+---------+-------------+-----+-----------------------------------------------------------------------------------------------+\n",
      "| X  |         | 03/22 18 pm |  5  | sin的函数设计                                                                                 |\n",
      "|    |         | 03/22 09 am |  5  | 三角函数计算器，这个怎么修正·                                                                 |\n",
      "|    |         | 03/22 00 am |  5  | 请问这是错在哪里了？                                                                          |\n",
      "|    |         | 03/21 21 pm |  4  | 为什么这个代码错误显示指出 变量类型不对？                                                     |\n",
      "|    |    ✨   | 03/21 21 pm |  4  | 递归函数和循环有啥区别？                                                                      |\n",
      "| X  |         | 03/21 21 pm |  4  | 函数综合练习第六关这么定义sin函数可以吗？我测试时一直报死循环，请问有什么问题吗？             |\n",
      "|    |         | 03/21 21 pm |  4  | 为什么每次测试的答案都不一样                                                                  |\n",
      "|    |         | 03/21 20 pm |  4  | 递归函数--证书分解                                                                            |\n",
      "|    |         | 03/21 20 pm |  4  | 猴子选大王                                                                                    |\n",
      "|    |         | 03/21 20 pm |  4  | 运行结果不对                                                                                  |\n",
      "|    |         | 03/21 20 pm |  4  | 哪里有问题                                                                                    |\n",
      "|    |         | 03/21 20 pm |  4  | 递归函数                                                                                      |\n",
      "|    |         | 03/21 19 pm |  4  | 是题有问题吗？                                                                                |\n",
      "|    |         | 03/21 16 pm |  4  | 三角函数                                                                                      |\n",
      "|    |         | 03/21 15 pm |  4  | 三角函数计算器                                                                                |\n",
      "|    |         | 03/21 15 pm |  4  | 综合练习—C&C++函数第二关                                                                      |\n",
      "|    |         | 03/21 15 pm |  4  | C++中是否可以用类似调换字符串顺序的方式来解决此题？                                           |\n",
      "|    |         | 03/21 15 pm |  4  | 综合练习—C&C++函数三角函数计算器                                                              |\n",
      "|    |         | 03/21 14 pm |  4  | 请问我的正弦函数错在哪里了？                                                                  |\n",
      "|    |         | 03/21 12 am |  4  | 三角函数计算器，为什么结果不准？                                                              |\n",
      "|    |         | 03/20 22 pm |  3  | 秒数如何转换为时分秒                                                                          |\n",
      "|    |         | 03/20 21 pm |  3  | 关于 Segmentation fault的求助                                                                 |\n",
      "|    |         | 03/20 20 pm |  3  | if (!n) return;什么意思                                                                       |\n",
      "|    |         | 03/20 19 pm |  3  | vs上为什么总会有这个问题                                                                      |\n",
      "|    |         | 03/20 19 pm |  3  | 头歌三角函数计算                                                                              |\n",
      "| X  |         | 03/20 18 pm |  3  | 头歌一直不对                                                                                  |\n",
      "|    |         | 03/20 17 pm |  3  | 为什么VS上运行正确，而在头歌上就会报错？                                                      |\n",
      "|    |         | 03/20 15 pm |  3  | 函数在哪里定义啊？三个参数类型不同用函数前面写什么啊                                          |\n",
      "|    |         | 03/20 08 am |  3  | 指针综合练习第一关                                                                            |\n",
      "|    |         | 03/19 21 pm |  2  | 这个函数为啥判断不出来是不是素数，判断所有数字输出都是true                                    |\n",
      "|    |         | 03/19 21 pm |  2  | 请问 综合练习—C&C++函数 第5关整数分解该如何递归                                               |\n",
      "|    |         | 03/19 21 pm |  2  | 哪位大佬帮帮菜鸡                                                                              |\n",
      "|    |         | 03/19 20 pm |  2  | 关于整数分解实训                                                                              |\n",
      "|    |    ✨   | 03/19 20 pm |  2  | 在用while循环和for循环解决素数和问题时发现的两者不同之处？                                    |\n",
      "|    |         | 03/19 20 pm |  2  | 第三关：这天星期几  （测试125可以过，但测试34无法通过）                                       |\n",
      "|    |         | 03/19 20 pm |  2  | 综合练习—C&C++函数验证哥德巴赫猜想                                                            |\n",
      "|    |         | 03/19 20 pm |  2  | 递归函数执行if语句下属表达式时是先彻底执行完split（n/10）才执行cout  << n%10吗？              |\n",
      "|    |         | 03/19 20 pm |  2  | c++验证哥德巴赫猜想                                                                           |\n",
      "|    |         | 03/19 19 pm |  2  | 关于哥德巴赫猜想实训                                                                          |\n",
      "|    |         | 03/19 19 pm |  2  | 测评超时的原因                                                                                |\n",
      "|    |         | 03/19 15 pm |  2  | 为啥用和上一关一样的代码判断素数就判断不出来了呢                                              |\n",
      "|    |         | 03/19 11 am |  2  | educoder上综合练习——C&C++函数实训第三关答案代码是这样写吗？还是说第一个begin和end中间写的不对 |\n",
      "|    |         | 03/19 11 am |  2  | C++中函数板块两种参数传输方式的区别？                                                         |\n",
      "|    |         | 03/19 11 am |  2  | 为什么把以下图片第10行改为cout<<DG(n);会报错呢？                                              |\n",
      "|    |         | 03/18 21 pm |  1  | 为什么老是超时？设置范围了怎么还是死循环？                                                    |\n",
      "|    |    ✨   | 03/18 16 pm |  1  | C&C++控制结构实训 第6关：循环结构：素数和                                                     |\n",
      "|    |         | 03/17 12 am |  7  | \"continue语句执行后马上会开始下一次循环\"这句话对吗？                                          |\n",
      "|    |         | 03/17 12 am |  7  | 输出等腰三角形哪里出错了？                                                                    |\n",
      "|    |         | 03/16 16 pm |  6  | 关于使用vscode打包的问题                                                                      |\n",
      "|    |         | 03/16 10 am |  6  | 在定义函数时变量前加&的作用                                                                   |\n",
      "+----+---------+-------------+-----+-----------------------------------------------------------------------------------------------+\n"
     ]
    }
   ],
   "source": [
    "table = prettytable.PrettyTable([\"OK\", \"Essence\", \"Date\", \"Day\", \"Title\"])\n",
    "table.align[\"Title\"] = \"l\"\n",
    "for page_no in range(1, 6):\n",
    "    response = requests.get(get_url(page_no=page_no))\n",
    "    issuses = response.json().get(\"data\", [])\n",
    "    for item in issuses:\n",
    "        table.add_row(\n",
    "            [\n",
    "                \"\" if item[\"is_solve\"] else \"X\",\n",
    "                \"✨\" if item[\"essence\"] else \"\",\n",
    "                *format_datetime(item[\"created_at\"]),\n",
    "                item[\"title\"],\n",
    "            ]\n",
    "        )\n",
    "print(table)"
   ]
  },
  {
   "cell_type": "code",
   "execution_count": 14,
   "metadata": {},
   "outputs": [
    {
     "data": {
      "text/plain": [
       "{'id': 13029,\n",
       " 'title': 'sin的函数设计',\n",
       " 'user_id': 14911,\n",
       " 'product': {'id': 478,\n",
       "  'title': 'C/C++程序设计',\n",
       "  'avatar': 'https://file.learnerhub.net/crop-avatar-1681288298354%2F%E7%A8%8B%E5%BA%8F%E8%AE%BE%E8%AE%A1.png',\n",
       "  'description': 'C++编程学习实践社区',\n",
       "  'license_key': 'MulanOWL_BY-v1'},\n",
       " 'content': None,\n",
       " 'is_solve': False,\n",
       " 'essence': False,\n",
       " 'visitor_count': 2,\n",
       " 'owner': {'id': 14911,\n",
       "  'nickname': '李光曦',\n",
       "  'avatar': 'https://file.learnerhub.net/default_avatar.jpg',\n",
       "  'belike_count': 40,\n",
       "  'be_attention_count': 2,\n",
       "  'attention_count': 0,\n",
       "  'battery': 1,\n",
       "  'full_battery_day': 0,\n",
       "  'battery_time': '2024-03-22T18:57:22.022+08:00'},\n",
       " 'tags': [],\n",
       " 'comment_count': 0,\n",
       " 'discuss_count': 0,\n",
       " 'root_comment_count': 0,\n",
       " 'root_discuss_count': 0,\n",
       " 'all_comments_count': 0,\n",
       " 'created_at': '2024-03-22T18:59:47.604+08:00',\n",
       " 'updated_at': '2024-03-22T18:59:47.583+08:00',\n",
       " 'share_url': None,\n",
       " 'highlight': None,\n",
       " 'comment': None,\n",
       " 'votes': {'like_size': 0,\n",
       "  'collection_size': 0,\n",
       "  'attention_size': 0,\n",
       "  'dis_like_size': 0,\n",
       "  'dis_collection_size': 0,\n",
       "  'dis_attention_size': 0},\n",
       " 'has_vote': {'collection': False,\n",
       "  'like': False,\n",
       "  'attention': False,\n",
       "  'dis_collection': False,\n",
       "  'dis_like': False,\n",
       "  'dis_attention': False}}"
      ]
     },
     "execution_count": 14,
     "metadata": {},
     "output_type": "execute_result"
    }
   ],
   "source": [
    "{\n",
    "    \"id\": 13029,\n",
    "    \"title\": \"sin的函数设计\",\n",
    "    \"user_id\": 14911,\n",
    "    \"product\": {\n",
    "        \"id\": 478,\n",
    "        \"title\": \"C/C++程序设计\",\n",
    "        \"avatar\": \"https://file.learnerhub.net/crop-avatar-1681288298354%2F%E7%A8%8B%E5%BA%8F%E8%AE%BE%E8%AE%A1.png\",\n",
    "        \"description\": \"C++编程学习实践社区\",\n",
    "        \"license_key\": \"MulanOWL_BY-v1\",\n",
    "    },\n",
    "    \"content\": None,\n",
    "    \"is_solve\": False,\n",
    "    \"essence\": False,\n",
    "    \"visitor_count\": 2,\n",
    "    \"owner\": {\n",
    "        \"id\": 14911,\n",
    "        \"nickname\": \"李光曦\",\n",
    "        \"avatar\": \"https://file.learnerhub.net/default_avatar.jpg\",\n",
    "        \"belike_count\": 40,\n",
    "        \"be_attention_count\": 2,\n",
    "        \"attention_count\": 0,\n",
    "        \"battery\": 1,\n",
    "        \"full_battery_day\": 0,\n",
    "        \"battery_time\": \"2024-03-22T18:57:22.022+08:00\",\n",
    "    },\n",
    "    \"tags\": [],\n",
    "    \"comment_count\": 0,\n",
    "    \"discuss_count\": 0,\n",
    "    \"root_comment_count\": 0,\n",
    "    \"root_discuss_count\": 0,\n",
    "    \"all_comments_count\": 0,\n",
    "    \"created_at\": \"2024-03-22T18:59:47.604+08:00\",\n",
    "    \"updated_at\": \"2024-03-22T18:59:47.583+08:00\",\n",
    "    \"share_url\": None,\n",
    "    \"highlight\": None,\n",
    "    \"comment\": None,\n",
    "    \"votes\": {\n",
    "        \"like_size\": 0,\n",
    "        \"collection_size\": 0,\n",
    "        \"attention_size\": 0,\n",
    "        \"dis_like_size\": 0,\n",
    "        \"dis_collection_size\": 0,\n",
    "        \"dis_attention_size\": 0,\n",
    "    },\n",
    "    \"has_vote\": {\n",
    "        \"collection\": False,\n",
    "        \"like\": False,\n",
    "        \"attention\": False,\n",
    "        \"dis_collection\": False,\n",
    "        \"dis_like\": False,\n",
    "        \"dis_attention\": False,\n",
    "    },\n",
    "}"
   ]
  }
 ],
 "metadata": {
  "kernelspec": {
   "display_name": "net",
   "language": "python",
   "name": "python3"
  },
  "language_info": {
   "codemirror_mode": {
    "name": "ipython",
    "version": 3
   },
   "file_extension": ".py",
   "mimetype": "text/x-python",
   "name": "python",
   "nbconvert_exporter": "python",
   "pygments_lexer": "ipython3",
   "version": "3.11.8"
  }
 },
 "nbformat": 4,
 "nbformat_minor": 2
}
